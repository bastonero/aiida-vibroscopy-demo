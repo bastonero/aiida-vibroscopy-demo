{
 "cells": [
  {
   "attachments": {},
   "cell_type": "markdown",
   "metadata": {},
   "source": [
    "# Phonon and dielectric properties of AlAs\n",
    "\n",
    "In this tutorial you will learn how to calculate the phonon and dielectric properties of AlAs using `aiida-vibroscopy`.\n",
    "\n",
    "Let's get started!"
   ]
  },
  {
   "cell_type": "code",
   "execution_count": null,
   "metadata": {
    "tags": [
     "hide-cell"
    ]
   },
   "outputs": [],
   "source": [
    "from local_module import load_temp_profile\n",
    "\n",
    "# If you download this file, you can run it with your own profile.\n",
    "# Put these lines instead:\n",
    "# from aiida import load_profile\n",
    "# load_profile()\n",
    "data = load_temp_profile(\n",
    "    name=\"polar-tutorial\",\n",
    "    add_computer=True,\n",
    "    add_pw_code=True,\n",
    "    add_phonopy_code=True,\n",
    "    add_sssp=True,\n",
    ")"
   ]
  },
  {
   "attachments": {},
   "cell_type": "markdown",
   "metadata": {},
   "source": [
    "## Importing the structure from COD\n",
    "\n",
    "Let's import the silicon structure from the COD database via AiiDA."
   ]
  },
  {
   "cell_type": "code",
   "execution_count": null,
   "metadata": {},
   "outputs": [],
   "source": [
    "from aiida.plugins import DbImporterFactory\n",
    "\n",
    "CodDbImporter = DbImporterFactory('cod')\n",
    "\n",
    "cod = CodDbImporter()\n",
    "results = cod.query(id='1540257') # AlAs 1540257\n",
    "structure = results[0].get_aiida_structure() # it has 8 atoms"
   ]
  },
  {
   "attachments": {},
   "cell_type": "markdown",
   "metadata": {},
   "source": [
    "\n",
    "## The `HarmonicWorkChain`\n",
    "\n",
    "For polar materials, the __non-analytical constants__ (NAC), i.e. Born effective charges and dielectric tensors, must be accounted when interpolating the phonon band structure. Moreover in AlAs, since it is non-centrosymmetric, a non zero $\\chi^{(2)}$ is present.\n",
    "\n",
    "Let's import the WorkChain and run it! We use the `get_builder_from_protocol` to get a __prefilled__ builder with __all inputs__. These inputs should be considered __not as converged parameters__, but as a good starting point. You may also need to tweak some parameters, e.g. add magnetization etc., depending on your case. "
   ]
  },
  {
   "cell_type": "code",
   "execution_count": null,
   "metadata": {
    "tags": [
     "hide-output"
    ]
   },
   "outputs": [],
   "source": [
    "from aiida.orm import List\n",
    "from aiida.plugins import WorkflowFactory\n",
    "from aiida.engine import run_get_node\n",
    "\n",
    "from aiida_vibroscopy.common.properties import PhononProperty\n",
    "\n",
    "HarmonicWorkChain = WorkflowFactory(\"vibroscopy.phonons.harmonic\")\n",
    "\n",
    "builder = HarmonicWorkChain.get_builder_from_protocol(\n",
    "    pw_code=data.pw_code,\n",
    "    structure=structure,\n",
    "    protocol=\"fast\",\n",
    "    phonopy_code=data.phonopy_code,\n",
    "    phonon_property=PhononProperty.BANDS,\n",
    ")\n",
    "builder.phonon.supercell_matrix = List([1,1,1]) # this can be 2,2,2, but we save some time JUST FOR THE TUTORIAL\n",
    "builder.dielectric.property = \"raman\" # this way it will compute also third order derivatives\n",
    "\n",
    "results, calc = run_get_node(builder)"
   ]
  },
  {
   "attachments": {},
   "cell_type": "markdown",
   "metadata": {},
   "source": [
    "As we computed the __phonon dispersion__, we can easily plot it as follows:"
   ]
  },
  {
   "cell_type": "code",
   "execution_count": null,
   "metadata": {},
   "outputs": [],
   "source": [
    "calc.outputs.output_phonopy.phonon_bands.show_mpl()"
   ]
  },
  {
   "attachments": {},
   "cell_type": "markdown",
   "metadata": {},
   "source": [
    "Hurray! We obtained the LO-TO splitting at the $\\Gamma$ point!"
   ]
  },
  {
   "attachments": {},
   "cell_type": "markdown",
   "metadata": {},
   "source": [
    "## Born charges, dielectric, non-linear optical susceptibility and Raman tensors\n",
    "\n",
    "We finally can explore all the electric field related derivatives for this material."
   ]
  },
  {
   "cell_type": "code",
   "execution_count": null,
   "metadata": {},
   "outputs": [],
   "source": [
    "vibro = calc.outputs.vibrational_data.numerical_accuracy_4\n",
    "print(\"The Born effective charges: \", \"\\n\", vibro.born_charges.round(5))"
   ]
  },
  {
   "cell_type": "code",
   "execution_count": null,
   "metadata": {},
   "outputs": [],
   "source": [
    "print(\"The dielectric tensor: \", \"\\n\", vibro.dielectric.round(5))"
   ]
  },
  {
   "cell_type": "code",
   "execution_count": null,
   "metadata": {},
   "outputs": [],
   "source": [
    "print(\"The non-linear optical susceptibility tensor (pm/V): \", \"\\n\", vibro.nlo_susceptibility.round(5))"
   ]
  },
  {
   "cell_type": "code",
   "execution_count": null,
   "metadata": {},
   "outputs": [],
   "source": [
    "vol = vibro.get_unitcell().get_cell_volume()\n",
    "print(\"The Raman tensors (Angstrom^2): \", \"\\n\", vibro.raman_tensors.round(5)*vol)"
   ]
  },
  {
   "attachments": {},
   "cell_type": "markdown",
   "metadata": {},
   "source": [
    "## Comparison with experiments\n",
    "\n",
    "Here the comparison with experiments. (have a look at [I. Souza et al., _Phys. Rev. Lett._, __89__, 11 (__2002__)](https://journals.aps.org/prl/abstract/10.1103/PhysRevLett.89.117602) and references therein)"
   ]
  },
  {
   "cell_type": "code",
   "execution_count": null,
   "metadata": {},
   "outputs": [],
   "source": [
    "print(\"Dielectric: \", \"\\n\", \"DFT: \", vibro.dielectric.round(1)[0,0], \"\\tExperiment: 9.6\")"
   ]
  },
  {
   "cell_type": "code",
   "execution_count": null,
   "metadata": {},
   "outputs": [],
   "source": [
    "print(\"Born charges: \", \"\\n\", \"DFT: \", vibro.born_charges.round(2)[0,0,0], \"\\tExperiment: 2.14\")"
   ]
  },
  {
   "cell_type": "code",
   "execution_count": null,
   "metadata": {},
   "outputs": [],
   "source": [
    "print(\"Non-linear optical susceptibility (pm/V): \", \"\\n\", \"DFT: \", vibro.nlo_susceptibility.round(0)[0,1,2], \"\\tExperiment: 64\")"
   ]
  },
  {
   "attachments": {},
   "cell_type": "markdown",
   "metadata": {},
   "source": [
    "### Raman polarizability\n",
    "\n",
    "We can also obtain the Raman polarizability tensor, both for the TO and LO modes. We can only compare with other DFT results, cause there are no available experimental data."
   ]
  },
  {
   "cell_type": "code",
   "execution_count": null,
   "metadata": {
    "tags": [
     "hide-input"
    ]
   },
   "outputs": [],
   "source": [
    "print(\"TO Raman polarizability tensor (Angstrom^2): \", \"\\n\", \"DFT: \", (vibro.raman_tensors[1,0,1,2]*vol).round(2), \"\\tVeithen et al. (2005): 8.48\")"
   ]
  },
  {
   "attachments": {},
   "cell_type": "markdown",
   "metadata": {},
   "source": [
    "::: {note} Why do our results differ from the one of Veithen?\n",
    ":class: dropdown\n",
    "\n",
    "The reason why we have discrepancies is mostly due to the fact we have _unconverged_ results. These tensors, being a third order derivative of the total energy, usually require a much denser k point sampling. Moreover, we also did not do the followings:\n",
    "- A tight relaxation of the cell; volume can modify significantly these properties.\n",
    "- Used the same functional as in other simulations, which eventually leads to different results.\n",
    "- Used a proper set of inputs: it's just a tutorial, and we don't want to wait forever (i.e. 5 minutes are too much already).\n",
    ":::"
   ]
  },
  {
   "attachments": {},
   "cell_type": "markdown",
   "metadata": {},
   "source": [
    "## Analysing the workflow\n",
    "\n",
    "Many things happened for computing this phonon band structure. Let's inspect the process tree."
   ]
  },
  {
   "cell_type": "code",
   "execution_count": null,
   "metadata": {},
   "outputs": [],
   "source": [
    "%verdi process status {calc.pk}"
   ]
  }
 ],
 "metadata": {
  "kernelspec": {
   "display_name": "base",
   "language": "python",
   "name": "python3"
  },
  "language_info": {
   "codemirror_mode": {
    "name": "ipython",
    "version": 3
   },
   "file_extension": ".py",
   "mimetype": "text/x-python",
   "name": "python",
   "nbconvert_exporter": "python",
   "pygments_lexer": "ipython3",
   "version": "3.8.16"
  },
  "vscode": {
   "interpreter": {
    "hash": "d4d1e4263499bec80672ea0156c357c1ee493ec2b1c70f0acce89fc37c4a6abe"
   }
  }
 },
 "nbformat": 4,
 "nbformat_minor": 2
}
