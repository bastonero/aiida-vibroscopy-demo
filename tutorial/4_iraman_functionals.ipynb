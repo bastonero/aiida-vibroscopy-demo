{
 "cells": [
  {
   "attachments": {},
   "cell_type": "markdown",
   "metadata": {},
   "source": [
    "# Infrared and Raman spectra using  DFT+U+V\n",
    "\n",
    "In this tutorial you will learn how to calculate the infrared and Raman spectra using DFT+U+V via `aiida-vibroscopy`.\n",
    "\n",
    "We will make use of LiCoO{sub}`2` for the demonstration, a spread battery cathode material.\n",
    "\n",
    "Let's get started!"
   ]
  },
  {
   "cell_type": "code",
   "execution_count": null,
   "metadata": {
    "tags": [
     "hide-cell"
    ]
   },
   "outputs": [],
   "source": [
    "from local_module import load_temp_profile\n",
    "\n",
    "# If you download this file, you can run it with your own profile.\n",
    "# Put these lines instead:\n",
    "# from aiida import load_profile\n",
    "# load_profile()\n",
    "data = load_temp_profile(\n",
    "    name=\"functionals-tutorial\",\n",
    "    add_computer=True,\n",
    "    add_pw_code=True,\n",
    "    add_sssp=True,\n",
    ")"
   ]
  },
  {
   "attachments": {},
   "cell_type": "markdown",
   "metadata": {},
   "source": [
    "## Creating the structure\n",
    "\n",
    "Let's define the LiCoO{sub}`2` structure."
   ]
  },
  {
   "cell_type": "code",
   "execution_count": null,
   "metadata": {},
   "outputs": [],
   "source": [
    "from aiida.orm import StructureData\n",
    "\n",
    "a, b, c, d = 1.4060463552647, 0.81178124180108, 4.6012019181836, 1.6235624832021\n",
    "cell = [[a, -b, c], [0.0, d, c], [-a, -b, c]]\n",
    "sites = [\n",
    "    ['Co', 'Co', (0, 0, 0)],\n",
    "    ['O', 'O', (0, 0, 3.6020728736387)],\n",
    "    ['O', 'O', (0, 0, 10.201532881212)],\n",
    "    ['Li', 'Li', (0, 0, 6.9018028772754)],\n",
    "]\n",
    "structure = StructureData(cell=cell)\n",
    "\n",
    "for site in sites:\n",
    "    structure.append_atom(position=site[2], symbols=site[0], name=site[1])\n",
    "\n",
    "structure.store()"
   ]
  },
  {
   "attachments": {},
   "cell_type": "markdown",
   "metadata": {},
   "source": [
    "\n",
    "## Spectra using PBEsol\n",
    "\n",
    "Let's first import the WorkChain and run it using 'simple' __PBEsol__!\n",
    "\n",
    "As usual, we use the `get_builder_from_protocol` to get a __prefilled__ builder with __all inputs__. These inputs should be considered __not as converged parameters__, but as a good starting point. You may also need to tweak some parameters, e.g. add magnetization etc., depending on your case. "
   ]
  },
  {
   "cell_type": "code",
   "execution_count": null,
   "metadata": {
    "tags": [
     "hide-output"
    ]
   },
   "outputs": [],
   "source": [
    "from aiida.plugins import WorkflowFactory\n",
    "from aiida.engine import run_get_node\n",
    "\n",
    "\n",
    "IRamanSpectraWorkChain = WorkflowFactory(\"vibroscopy.spectra.iraman\")\n",
    "\n",
    "# To make the calculations run faster\n",
    "scf_overrides = {'scf':{'pw':{'parameters':{'SYSTEM':{'ecutwfc':30, 'ecutrho':30*8}}}}}\n",
    "\n",
    "builder = IRamanSpectraWorkChain.get_builder_from_protocol(\n",
    "    code=data.pw_code,\n",
    "    structure=structure,\n",
    "    protocol=\"fast\",\n",
    "    overrides={'dielectric':scf_overrides, 'phonon':scf_overrides}\n",
    ")\n",
    "\n",
    "results, calc = run_get_node(builder)"
   ]
  },
  {
   "attachments": {},
   "cell_type": "markdown",
   "metadata": {},
   "source": [
    "## Powder Raman spectra using PBEsol\n",
    "\n",
    "Let's plot the powder Raman spectra computed using PBEsol."
   ]
  },
  {
   "cell_type": "code",
   "execution_count": null,
   "metadata": {},
   "outputs": [],
   "source": [
    "from aiida_vibroscopy.utils.plotting import get_spectra_plot\n",
    "\n",
    "vibro = calc.outputs.vibrational_data.numerical_accuracy_4\n",
    "polarized_intensities, unpolarized_intensities, frequencies_pbesol, labels = vibro.run_powder_raman_intensities(frequency_laser=532, temperature=300)\n",
    "\n",
    "total_intensities_pbesol =  polarized_intensities + unpolarized_intensities\n",
    "plt = get_spectra_plot(frequencies_pbesol, total_intensities_pbesol)\n",
    "plt.show()"
   ]
  },
  {
   "attachments": {},
   "cell_type": "markdown",
   "metadata": {},
   "source": [
    "## Spectra using PBEsol+U+V\n",
    "\n",
    "\n",
    "### Defining the `HubbardStructureData`\n",
    "\n",
    "The Hubbard input should be specified alongside with the structural data, in a unique data called `HubbardStructureData`. Refer to the aiida-quantumespresso for more insights. What you need to know is that you can run a full Hubbard corrected calculations by just specifying the HubbardStructureData _as an input for the structure_; this will work _in any workchain_ of the package!\n",
    "\n",
    "::: {attention}\n",
    "If you want to compute self-consistently the Hubbard parameters in automated fashion, please have a look at our __aiida-quantumespresso-hp__ plugin, fully automated and parallelisable! The `SelfConsistentHubbardWorkChain` will deliver for you a __fully relaxed__ structure with __fully self-consistent ab-initio__ Hubbard parameters!\n",
    ":::\n",
    "\n",
    "::: {note}\n",
    "For this demonstration we will not compute the Hubbard parameters ab-initio. These ones that we will use were computed beforehand in a separate job run in order to demonstrate quickly the properties we are interested in.\n",
    ":::"
   ]
  },
  {
   "cell_type": "code",
   "execution_count": null,
   "metadata": {},
   "outputs": [],
   "source": [
    "from aiida_quantumespresso.common.hubbard import Hubbard\n",
    "from aiida_quantumespresso.data.hubbard_structure import HubbardStructureData\n",
    "\n",
    "hubbard_list = [\n",
    "    (0, '3d', 0, '3d', 7.2362, (0, 0, 0), 'V'),\n",
    "    (0, '3d', 2, '2p', 0.2999, (-1, 0, -1), 'V'),\n",
    "    (0, '3d', 1, '2p', 0.2999, (0, 0, -1), 'V'),\n",
    "    (0, '3d', 1, '2p', 0.2999, (-1, 0, 0), 'V'),\n",
    "    (0, '3d', 2, '2p', 0.2999, (0, -1, -1), 'V'),\n",
    "    (0, '3d', 2, '2p', 0.2999, (-1, -1, 0), 'V'),\n",
    "    (0, '3d', 1, '2p', 0.2999, (0, -1, 0), 'V')\n",
    "]\n",
    "\n",
    "a, b, c, d = 1.4023265572925, 0.80963361535606, 4.6735772081287, 1.6192672305121\n",
    "cell = [[a, -b, c], [0.0, d, c], [-a, -b, c]]\n",
    "sites = [\n",
    "    ['Co', 'Co', (0, 0, 0)],\n",
    "    ['O', 'O', (0, 0, 3.6492980821051)],\n",
    "    ['O', 'O', (0, 0, 10.371433542381)],\n",
    "    ['Li', 'Li', (0, 0, 7.010365812143)],\n",
    "]\n",
    "\n",
    "hubbard_structure = HubbardStructureData(cell=cell, sites=sites)\n",
    "hubbard_structure.hubbard = Hubbard.from_list(hubbard_list)\n",
    "hubbard_structure.store()"
   ]
  },
  {
   "attachments": {},
   "cell_type": "markdown",
   "metadata": {},
   "source": [
    "### Running the `IRamanSpectraWorkChain` with the `HubbardStructureData`\n",
    "\n",
    "Let's run the workchain for IR and Raman using the just defined structure with Hubbard parameters."
   ]
  },
  {
   "cell_type": "code",
   "execution_count": null,
   "metadata": {
    "tags": [
     "hide-output"
    ]
   },
   "outputs": [],
   "source": [
    "builder = IRamanSpectraWorkChain.get_builder_from_protocol(\n",
    "    code=data.pw_code,\n",
    "    structure=hubbard_structure,\n",
    "    protocol=\"fast\",\n",
    "    overrides={'dielectric':scf_overrides, 'phonon':scf_overrides}\n",
    ")\n",
    "\n",
    "results_hubabrd, calc_hubbard = run_get_node(builder)"
   ]
  },
  {
   "attachments": {},
   "cell_type": "markdown",
   "metadata": {},
   "source": [
    "## Powder Raman spectra using PBEsol+U+V\n",
    "\n",
    "Let's plot the powder Raman spectra computed using PBEsol+U+V."
   ]
  },
  {
   "cell_type": "code",
   "execution_count": null,
   "metadata": {},
   "outputs": [],
   "source": [
    "vibro = calc_hubbard.outputs.vibrational_data.numerical_accuracy_4\n",
    "polarized_intensities, unpolarized_intensities, frequencies_hubbard, labels = vibro.run_powder_raman_intensities(frequency_laser=532, temperature=300)\n",
    "\n",
    "total_intensities_hubbard =  polarized_intensities + unpolarized_intensities\n",
    "plt = get_spectra_plot(frequencies_hubbard, total_intensities_hubbard)\n",
    "plt.show()"
   ]
  },
  {
   "attachments": {},
   "cell_type": "markdown",
   "metadata": {},
   "source": [
    "## Comparison with experiments\n",
    "\n",
    "We compare the above results with the experimental results from [M. Inaba et al., _Chem. Lett._, __24__, 889 (__1995__)](https://www.journal.csj.jp/doi/10.1246/cl.1995.889)."
   ]
  },
  {
   "cell_type": "code",
   "execution_count": null,
   "metadata": {
    "tags": [
     "hide-input"
    ]
   },
   "outputs": [],
   "source": [
    "import numpy as np\n",
    "import matplotlib.pyplot as plt\n",
    "from matplotlib.ticker import AutoMinorLocator\n",
    "from aiida_vibroscopy.utils.broadenings import multilorentz\n",
    "\n",
    "broadening = 10.0\n",
    "\n",
    "# -----  Canvas\n",
    "_, ax = plt.subplots() \n",
    "\n",
    "# -----  Experiments\n",
    "converter = lambda s: float(s.decode(\"UTF-8\").replace(\",\", \".\"))\n",
    "x_range, y_range = np.loadtxt(\"./_static/lico2_raman_exp.txt\", unpack=True, converters={0:converter, 1:converter})\n",
    "y_range = (y_range-y_range.min())/(y_range.max()-y_range.min())\n",
    "ax.plot(x_range, y_range+2, linewidth=2.0, color='black', linestyle='--', label=\"Exp. M. Inaba (1995)\")  \n",
    "\n",
    "# ----- PBEsol+U+V\n",
    "y_range = multilorentz(x_range, frequencies_hubbard, total_intensities_hubbard, broadening)\n",
    "y_range /= y_range.max()\n",
    "ax.plot(x_range, y_range+1, linewidth=2.0, linestyle='-', label=\"PBEsol+U+V\")  \n",
    "\n",
    "# ----- PBEsol\n",
    "y_range = multilorentz(x_range, frequencies_pbesol, total_intensities_pbesol, broadening)\n",
    "y_range /= y_range.max()\n",
    "ax.plot(x_range, y_range+0, linewidth=2.0, linestyle='-', label=\"PBEsol\") \n",
    "\n",
    "\n",
    "# ----- Ticks and Labels\n",
    "ax.set_yticklabels('')\n",
    "ax.set_yticks([])\n",
    "ax.tick_params(axis='both', which='both', direction='in')\n",
    "ax.set_ylabel('Intensity (arb. units)')  # Add a y-label to the axes.\n",
    "ax.set_xlabel('Wavenumber (cm$^{-1}$)')\n",
    "\n",
    "ax.xaxis.set_minor_locator(AutoMinorLocator())\n",
    "ax.yaxis.set_minor_locator(AutoMinorLocator())\n",
    "\n",
    "# ----- Legend\n",
    "ax.legend(bbox_to_anchor=(0,1,1,0.1), loc='lower left', frameon=False)\n",
    "\n",
    "plt.show()"
   ]
  },
  {
   "attachments": {},
   "cell_type": "markdown",
   "metadata": {},
   "source": [
    "::: {warning}\n",
    "We are here quite far from concluding something, i.e. which functional is the best. We used __unconverged__ paramaters to fit the time of a tutorial. We should make sure to converge cutoff, k points and electronic charge convergence. \n",
    "\n",
    "Moreover, temperature can affect comparison with experiments. In general, though, we can say that thermal expansion would lead to renormalization of the frequencies, usually reducing them. Thus, it is better to overestimate in general the phonon frequencies - although note that this is not a necessary condition.\n",
    ":::"
   ]
  }
 ],
 "metadata": {
  "kernelspec": {
   "display_name": "base",
   "language": "python",
   "name": "python3"
  },
  "language_info": {
   "codemirror_mode": {
    "name": "ipython",
    "version": 3
   },
   "file_extension": ".py",
   "mimetype": "text/x-python",
   "name": "python",
   "nbconvert_exporter": "python",
   "pygments_lexer": "ipython3",
   "version": "3.8.16"
  },
  "vscode": {
   "interpreter": {
    "hash": "d4d1e4263499bec80672ea0156c357c1ee493ec2b1c70f0acce89fc37c4a6abe"
   }
  }
 },
 "nbformat": 4,
 "nbformat_minor": 2
}
