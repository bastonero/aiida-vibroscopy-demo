{
 "cells": [
  {
   "attachments": {},
   "cell_type": "markdown",
   "metadata": {},
   "source": [
    "# Phonon and dielectric properties of AlAs\n",
    "\n",
    "Here we compute in automated fashion the phonon and dielectric properties of AlAs using `aiida-vibroscopy`.\n",
    "\n",
    "Let's get started!"
   ]
  },
  {
   "cell_type": "code",
   "execution_count": 1,
   "metadata": {
    "tags": [
     "hide-cell"
    ]
   },
   "outputs": [
    {
     "name": "stderr",
     "output_type": "stream",
     "text": [
      "/opt/conda/lib/python3.8/site-packages/paramiko/transport.py:219: CryptographyDeprecationWarning: Blowfish has been deprecated\n",
      "  \"class\": algorithms.Blowfish,\n"
     ]
    }
   ],
   "source": [
    "from local_module import load_temp_profile\n",
    "\n",
    "# If you download this file, you can run it with your own profile.\n",
    "# Put these lines instead:\n",
    "# from aiida import load_profile\n",
    "# load_profile()\n",
    "data = load_temp_profile(\n",
    "    name=\"polar-tutorial\",\n",
    "    add_computer=True,\n",
    "    add_pw_code=True,\n",
    "    add_phonopy_code=True,\n",
    "    add_sssp=True,\n",
    ")"
   ]
  },
  {
   "attachments": {},
   "cell_type": "markdown",
   "metadata": {},
   "source": [
    "## Importing the structure from COD\n",
    "\n",
    "Let's import the silicon structure from the COD database via AiiDA."
   ]
  },
  {
   "cell_type": "code",
   "execution_count": 2,
   "metadata": {},
   "outputs": [],
   "source": [
    "from aiida.plugins import DbImporterFactory\n",
    "\n",
    "CodDbImporter = DbImporterFactory('cod')\n",
    "\n",
    "cod = CodDbImporter()\n",
    "results = cod.query(id='1540257') # AlAs 1540257\n",
    "structure = results[0].get_aiida_structure() # it has 8 atoms"
   ]
  },
  {
   "attachments": {},
   "cell_type": "markdown",
   "metadata": {},
   "source": [
    "\n",
    "## The `HarmonicWorkChain`\n",
    "\n",
    "For polar materials, the __non-analytical constants__ (NAC), i.e. Born effective charges and dielectric tensors, must be accounted when interpolating the phonon band structure. Moreover in AlAs, since it is non-centrosymmetric, a non zero $\\chi^{(2)}$ is present.\n",
    "\n",
    "Let's import the WorkChain and run it! We use the `get_builder_from_protocol` to get a __prefilled__ builder with __all inputs__. These inputs should be considered __not as converged parameters__, but as a good starting point. You may also need to tweak some parameters, e.g. add magnetization etc., depending on your case. "
   ]
  },
  {
   "cell_type": "code",
   "execution_count": 3,
   "metadata": {
    "tags": [
     "hide-output"
    ]
   },
   "outputs": [
    {
     "name": "stderr",
     "output_type": "stream",
     "text": [
      "08/26/2023 11:56:37 AM <1894121> aiida.engine.processes.functions: [WARNING] function `generate_preprocess_data` has invalid type hints: unsupported operand type(s) for |: 'AbstractNodeMeta' and 'NoneType'\n",
      "08/26/2023 11:56:37 AM <1894121> aiida.engine.processes.functions: [WARNING] function `generate_phonopy_data` has invalid type hints: unsupported operand type(s) for |: 'AbstractNodeMeta' and 'NoneType'\n",
      "08/26/2023 11:56:37 AM <1894121> aiida.orm.nodes.process.workflow.workchain.WorkChainNode: [REPORT] [109|HarmonicWorkChain|run_phonon]: submitting `PhononWorkChain` <PK=115>\n",
      "08/26/2023 11:56:38 AM <1894121> aiida.orm.nodes.process.workflow.workchain.WorkChainNode: [REPORT] [109|HarmonicWorkChain|run_dielectric]: submitting `DielectricWorkChain` <PK=119>\n",
      "08/26/2023 11:56:39 AM <1894121> aiida.orm.nodes.process.workflow.workchain.WorkChainNode: [REPORT] [119|DielectricWorkChain|run_base_scf]: launching base scf PwBaseWorkChain<132>\n",
      "08/26/2023 11:56:39 AM <1894121> aiida.orm.nodes.process.workflow.workchain.WorkChainNode: [REPORT] [132|PwBaseWorkChain|run_process]: launching PwCalculation<136> iteration #1\n",
      "08/26/2023 11:56:39 AM <1894121> aiida.orm.nodes.process.workflow.workchain.WorkChainNode: [REPORT] [115|PhononWorkChain|run_base_supercell]: launching base supercell scf PwBaseWorkChain<141>\n",
      "08/26/2023 11:56:40 AM <1894121> aiida.orm.nodes.process.workflow.workchain.WorkChainNode: [REPORT] [141|PwBaseWorkChain|run_process]: launching PwCalculation<144> iteration #1\n",
      "08/26/2023 11:56:54 AM <1894121> aiida.orm.nodes.process.workflow.workchain.WorkChainNode: [REPORT] [132|PwBaseWorkChain|results]: work chain completed after 1 iterations\n",
      "08/26/2023 11:56:54 AM <1894121> aiida.orm.nodes.process.workflow.workchain.WorkChainNode: [REPORT] [132|PwBaseWorkChain|on_terminated]: remote folders will not be cleaned\n",
      "08/26/2023 11:56:54 AM <1894121> aiida.orm.nodes.process.workflow.workchain.WorkChainNode: [REPORT] [141|PwBaseWorkChain|results]: work chain completed after 1 iterations\n",
      "08/26/2023 11:56:54 AM <1894121> aiida.orm.nodes.process.workflow.workchain.WorkChainNode: [REPORT] [141|PwBaseWorkChain|on_terminated]: remote folders will not be cleaned\n",
      "08/26/2023 11:56:55 AM <1894121> aiida.orm.nodes.process.workflow.workchain.WorkChainNode: [REPORT] [119|DielectricWorkChain|run_nscf]: launching base scf PwBaseWorkChain<158>\n",
      "08/26/2023 11:56:56 AM <1894121> aiida.orm.nodes.process.workflow.workchain.WorkChainNode: [REPORT] [115|PhononWorkChain|run_forces]: submitting `PwBaseWorkChain` <PK=162> with supercell n.o 1\n",
      "08/26/2023 11:56:57 AM <1894121> aiida.orm.nodes.process.workflow.workchain.WorkChainNode: [REPORT] [115|PhononWorkChain|run_forces]: submitting `PwBaseWorkChain` <PK=164> with supercell n.o 2\n",
      "08/26/2023 11:56:58 AM <1894121> aiida.orm.nodes.process.workflow.workchain.WorkChainNode: [REPORT] [158|PwBaseWorkChain|run_process]: launching PwCalculation<167> iteration #1\n",
      "08/26/2023 11:56:58 AM <1894121> aiida.orm.nodes.process.workflow.workchain.WorkChainNode: [REPORT] [162|PwBaseWorkChain|run_process]: launching PwCalculation<170> iteration #1\n",
      "08/26/2023 11:56:58 AM <1894121> aiida.orm.nodes.process.workflow.workchain.WorkChainNode: [REPORT] [164|PwBaseWorkChain|run_process]: launching PwCalculation<173> iteration #1\n",
      "08/26/2023 11:57:13 AM <1894121> aiida.orm.nodes.process.workflow.workchain.WorkChainNode: [REPORT] [158|PwBaseWorkChain|results]: work chain completed after 1 iterations\n",
      "08/26/2023 11:57:13 AM <1894121> aiida.orm.nodes.process.workflow.workchain.WorkChainNode: [REPORT] [158|PwBaseWorkChain|on_terminated]: remote folders will not be cleaned\n",
      "08/26/2023 11:57:14 AM <1894121> aiida.orm.nodes.process.workflow.workchain.WorkChainNode: [REPORT] [119|DielectricWorkChain|run_null_field_scfs]: launching PwBaseWorkChain<189> with null electric field 0\n",
      "08/26/2023 11:57:15 AM <1894121> aiida.orm.nodes.process.workflow.workchain.WorkChainNode: [REPORT] [119|DielectricWorkChain|run_null_field_scfs]: launching PwBaseWorkChain<190> with null electric field 1\n",
      "08/26/2023 11:57:16 AM <1894121> aiida.orm.nodes.process.workflow.workchain.WorkChainNode: [REPORT] [189|PwBaseWorkChain|run_process]: launching PwCalculation<193> iteration #1\n",
      "08/26/2023 11:57:16 AM <1894121> aiida.orm.nodes.process.workflow.workchain.WorkChainNode: [REPORT] [190|PwBaseWorkChain|run_process]: launching PwCalculation<196> iteration #1\n",
      "08/26/2023 11:57:23 AM <1894121> aiida.orm.nodes.process.workflow.workchain.WorkChainNode: [REPORT] [162|PwBaseWorkChain|results]: work chain completed after 1 iterations\n",
      "08/26/2023 11:57:23 AM <1894121> aiida.orm.nodes.process.workflow.workchain.WorkChainNode: [REPORT] [162|PwBaseWorkChain|on_terminated]: cleaned remote folders of calculations: 170\n",
      "08/26/2023 11:57:23 AM <1894121> aiida.orm.nodes.process.workflow.workchain.WorkChainNode: [REPORT] [164|PwBaseWorkChain|results]: work chain completed after 1 iterations\n",
      "08/26/2023 11:57:23 AM <1894121> aiida.orm.nodes.process.workflow.workchain.WorkChainNode: [REPORT] [164|PwBaseWorkChain|on_terminated]: cleaned remote folders of calculations: 173\n",
      "08/26/2023 11:57:25 AM <1894121> aiida.orm.nodes.process.workflow.workchain.WorkChainNode: [REPORT] [115|PhononWorkChain|on_terminated]: cleaned remote folders of calculations: 144 170 173\n",
      "08/26/2023 11:57:38 AM <1894121> aiida.orm.nodes.process.workflow.workchain.WorkChainNode: [REPORT] [189|PwBaseWorkChain|results]: work chain completed after 1 iterations\n",
      "08/26/2023 11:57:38 AM <1894121> aiida.orm.nodes.process.workflow.workchain.WorkChainNode: [REPORT] [189|PwBaseWorkChain|on_terminated]: remote folders will not be cleaned\n",
      "08/26/2023 11:57:41 AM <1894121> aiida.orm.nodes.process.workflow.workchain.WorkChainNode: [REPORT] [190|PwBaseWorkChain|results]: work chain completed after 1 iterations\n",
      "08/26/2023 11:57:41 AM <1894121> aiida.orm.nodes.process.workflow.workchain.WorkChainNode: [REPORT] [190|PwBaseWorkChain|on_terminated]: remote folders will not be cleaned\n",
      "08/26/2023 11:57:42 AM <1894121> aiida.orm.nodes.process.workflow.workchain.WorkChainNode: [REPORT] [119|DielectricWorkChain|run_electric_field_scfs]: launching PwBaseWorkChain<220> with electric field index 2 and sign 1.0 iteration #0\n",
      "08/26/2023 11:57:43 AM <1894121> aiida.orm.nodes.process.workflow.workchain.WorkChainNode: [REPORT] [119|DielectricWorkChain|run_electric_field_scfs]: launching PwBaseWorkChain<223> with electric field index 3 and sign 1.0 iteration #0\n",
      "08/26/2023 11:57:45 AM <1894121> aiida.orm.nodes.process.workflow.workchain.WorkChainNode: [REPORT] [220|PwBaseWorkChain|run_process]: launching PwCalculation<226> iteration #1\n",
      "08/26/2023 11:57:45 AM <1894121> aiida.orm.nodes.process.workflow.workchain.WorkChainNode: [REPORT] [223|PwBaseWorkChain|run_process]: launching PwCalculation<229> iteration #1\n",
      "08/26/2023 11:58:06 AM <1894121> aiida.orm.nodes.process.workflow.workchain.WorkChainNode: [REPORT] [220|PwBaseWorkChain|results]: work chain completed after 1 iterations\n",
      "08/26/2023 11:58:07 AM <1894121> aiida.orm.nodes.process.workflow.workchain.WorkChainNode: [REPORT] [220|PwBaseWorkChain|on_terminated]: remote folders will not be cleaned\n",
      "08/26/2023 11:58:12 AM <1894121> aiida.orm.nodes.process.workflow.workchain.WorkChainNode: [REPORT] [223|PwBaseWorkChain|results]: work chain completed after 1 iterations\n",
      "08/26/2023 11:58:12 AM <1894121> aiida.orm.nodes.process.workflow.workchain.WorkChainNode: [REPORT] [223|PwBaseWorkChain|on_terminated]: remote folders will not be cleaned\n",
      "08/26/2023 11:58:13 AM <1894121> aiida.orm.nodes.process.workflow.workchain.WorkChainNode: [REPORT] [119|DielectricWorkChain|run_electric_field_scfs]: launching PwBaseWorkChain<242> with electric field index 2 and sign 1.0 iteration #1\n",
      "08/26/2023 11:58:14 AM <1894121> aiida.orm.nodes.process.workflow.workchain.WorkChainNode: [REPORT] [119|DielectricWorkChain|run_electric_field_scfs]: launching PwBaseWorkChain<245> with electric field index 3 and sign 1.0 iteration #1\n",
      "08/26/2023 11:58:15 AM <1894121> aiida.orm.nodes.process.workflow.workchain.WorkChainNode: [REPORT] [242|PwBaseWorkChain|run_process]: launching PwCalculation<248> iteration #1\n",
      "08/26/2023 11:58:16 AM <1894121> aiida.orm.nodes.process.workflow.workchain.WorkChainNode: [REPORT] [245|PwBaseWorkChain|run_process]: launching PwCalculation<251> iteration #1\n",
      "08/26/2023 11:58:43 AM <1894121> aiida.orm.nodes.process.workflow.workchain.WorkChainNode: [REPORT] [242|PwBaseWorkChain|results]: work chain completed after 1 iterations\n",
      "08/26/2023 11:58:43 AM <1894121> aiida.orm.nodes.process.workflow.workchain.WorkChainNode: [REPORT] [242|PwBaseWorkChain|on_terminated]: remote folders will not be cleaned\n",
      "08/26/2023 11:58:46 AM <1894121> aiida.orm.nodes.process.workflow.workchain.WorkChainNode: [REPORT] [245|PwBaseWorkChain|results]: work chain completed after 1 iterations\n",
      "08/26/2023 11:58:46 AM <1894121> aiida.orm.nodes.process.workflow.workchain.WorkChainNode: [REPORT] [245|PwBaseWorkChain|on_terminated]: remote folders will not be cleaned\n",
      "08/26/2023 11:58:47 AM <1894121> aiida.orm.nodes.process.workflow.workchain.WorkChainNode: [REPORT] [119|DielectricWorkChain|run_numerical_derivatives]: launching NumericalDerivativesWorkChain<269> for computing numerical derivatives.\n",
      "/aiida-plugins/aiida-vibroscopy/src/aiida_vibroscopy/calculations/symmetry.py:163: UserWarning: Symmetry of dChi/dr tensors is largely broken. \n",
      "The max difference is:\n",
      "12.88765439365443\n",
      "  warnings.warn('\\n'.join(lines))\n",
      "/aiida-plugins/aiida-vibroscopy/src/aiida_vibroscopy/calculations/symmetry.py:163: UserWarning: Symmetry of dChi/dr tensors is largely broken. \n",
      "The max difference is:\n",
      "117.75652293854249\n",
      "  warnings.warn('\\n'.join(lines))\n",
      "/aiida-plugins/aiida-vibroscopy/src/aiida_vibroscopy/calculations/symmetry.py:163: UserWarning: Symmetry of dChi/dr tensors is largely broken. \n",
      "The max difference is:\n",
      "153.75196663153494\n",
      "  warnings.warn('\\n'.join(lines))\n",
      "08/26/2023 11:58:51 AM <1894121> aiida.orm.nodes.process.workflow.workchain.WorkChainNode: [REPORT] [119|DielectricWorkChain|on_terminated]: cleaned remote folders of calculations: 136 167 193 196 226 229 248 251\n",
      "08/26/2023 11:58:54 AM <1894121> aiida.orm.nodes.process.workflow.workchain.WorkChainNode: [REPORT] [109|HarmonicWorkChain|run_phonopy]: submitting `PhonopyCalculation` <PK=299>\n",
      "08/26/2023 11:58:59 AM <1894121> aiida.orm.nodes.process.workflow.workchain.WorkChainNode: [REPORT] [109|HarmonicWorkChain|on_terminated]: cleaned remote folders of calculations: 144 170 173 136 167 193 196 226 229 248 251 299\n"
     ]
    }
   ],
   "source": [
    "from aiida.orm import List\n",
    "from aiida.plugins import WorkflowFactory\n",
    "from aiida.engine import run_get_node\n",
    "\n",
    "from aiida_vibroscopy.common.properties import PhononProperty\n",
    "\n",
    "HarmonicWorkChain = WorkflowFactory(\"vibroscopy.phonons.harmonic\")\n",
    "\n",
    "builder = HarmonicWorkChain.get_builder_from_protocol(\n",
    "    pw_code=data.pw_code,\n",
    "    structure=structure,\n",
    "    protocol=\"fast\",\n",
    "    phonopy_code=data.phonopy_code,\n",
    "    phonon_property=PhononProperty.BANDS,\n",
    ")\n",
    "builder.phonon.supercell_matrix = List([1,1,1]) # this can be 2,2,2, but we save some time JUST FOR THE TUTORIAL\n",
    "builder.dielectric.property = \"raman\" # this way it will compute also third order derivatives\n",
    "\n",
    "results, calc = run_get_node(builder)"
   ]
  },
  {
   "attachments": {},
   "cell_type": "markdown",
   "metadata": {},
   "source": [
    "As we computed the __phonon dispersion__, we can easily plot it as follows:"
   ]
  },
  {
   "cell_type": "code",
   "execution_count": 4,
   "metadata": {},
   "outputs": [
    {
     "data": {
      "image/png": "[encoded data removed]",
      "text/plain": [
       "<Figure size 640x480 with 1 Axes>"
      ]
     },
     "metadata": {},
     "output_type": "display_data"
    }
   ],
   "source": [
    "calc.outputs.output_phonopy.phonon_bands.show_mpl()"
   ]
  },
  {
   "attachments": {},
   "cell_type": "markdown",
   "metadata": {},
   "source": [
    "Hurray! We obtained the LO-TO splitting at the $\\Gamma$ point!"
   ]
  },
  {
   "attachments": {},
   "cell_type": "markdown",
   "metadata": {},
   "source": [
    "## Born charges, dielectric, non-linear optical susceptibility and Raman tensors\n",
    "\n",
    "We finally can explore all the electric field related derivatives for this material."
   ]
  },
  {
   "cell_type": "code",
   "execution_count": 5,
   "metadata": {},
   "outputs": [
    {
     "name": "stdout",
     "output_type": "stream",
     "text": [
      "The Born effective charges:  \n",
      " [[[ 2.14436  0.      -0.     ]\n",
      "  [ 0.       2.14436 -0.     ]\n",
      "  [-0.      -0.       2.14436]]\n",
      "\n",
      " [[-2.14436 -0.       0.     ]\n",
      "  [ 0.      -2.14436  0.     ]\n",
      "  [ 0.       0.      -2.14436]]]\n"
     ]
    }
   ],
   "source": [
    "vibro = calc.outputs.vibrational_data.numerical_accuracy_4\n",
    "print(\"The Born effective charges: \", \"\\n\", vibro.born_charges.round(5))"
   ]
  },
  {
   "cell_type": "code",
   "execution_count": 6,
   "metadata": {},
   "outputs": [
    {
     "name": "stdout",
     "output_type": "stream",
     "text": [
      "The dielectric tensor:  \n",
      " [[ 8.38413 -0.      -0.     ]\n",
      " [ 0.       8.38413  0.     ]\n",
      " [-0.      -0.       8.38413]]\n"
     ]
    }
   ],
   "source": [
    "print(\"The dielectric tensor: \", \"\\n\", vibro.dielectric.round(5))"
   ]
  },
  {
   "cell_type": "code",
   "execution_count": 7,
   "metadata": {},
   "outputs": [
    {
     "name": "stdout",
     "output_type": "stream",
     "text": [
      "The non-linear optical susceptibility tensor (pm/V):  \n",
      " [[[-0.       0.       0.     ]\n",
      "  [ 0.       0.      42.46219]\n",
      "  [ 0.      42.46219  0.     ]]\n",
      "\n",
      " [[ 0.       0.      42.46219]\n",
      "  [ 0.       0.       0.     ]\n",
      "  [42.46219  0.       0.     ]]\n",
      "\n",
      " [[ 0.      42.46219  0.     ]\n",
      "  [42.46219  0.       0.     ]\n",
      "  [ 0.       0.       0.     ]]]\n"
     ]
    }
   ],
   "source": [
    "print(\"The non-linear optical susceptibility tensor (pm/V): \", \"\\n\", vibro.nlo_susceptibility.round(5))"
   ]
  },
  {
   "cell_type": "code",
   "execution_count": 8,
   "metadata": {},
   "outputs": [
    {
     "name": "stdout",
     "output_type": "stream",
     "text": [
      "The Raman tensors (Angstrom^2):  \n",
      " [[[[ 0.         -0.         -0.        ]\n",
      "   [-0.         -0.         -6.38522341]\n",
      "   [-0.         -6.38522341 -0.        ]]\n",
      "\n",
      "  [[-0.         -0.         -6.38522341]\n",
      "   [-0.         -0.          0.        ]\n",
      "   [-6.38522341  0.         -0.        ]]\n",
      "\n",
      "  [[-0.         -6.38522341 -0.        ]\n",
      "   [-6.38522341 -0.         -0.        ]\n",
      "   [-0.         -0.         -0.        ]]]\n",
      "\n",
      "\n",
      " [[[-0.         -0.          0.        ]\n",
      "   [-0.          0.          6.38522341]\n",
      "   [ 0.          6.38522341  0.        ]]\n",
      "\n",
      "  [[ 0.         -0.          6.38522341]\n",
      "   [-0.         -0.         -0.        ]\n",
      "   [ 6.38522341 -0.          0.        ]]\n",
      "\n",
      "  [[ 0.          6.38522341  0.        ]\n",
      "   [ 6.38522341 -0.          0.        ]\n",
      "   [ 0.          0.          0.        ]]]]\n"
     ]
    }
   ],
   "source": [
    "vol = vibro.get_unitcell().get_cell_volume()\n",
    "print(\"The Raman tensors (Angstrom^2): \", \"\\n\", vibro.raman_tensors.round(5)*vol)"
   ]
  },
  {
   "attachments": {},
   "cell_type": "markdown",
   "metadata": {},
   "source": [
    "## Comparison with experiments\n",
    "\n",
    "Here the comparison with experiments. (have a look at [I. Souza et al., _Phys. Rev. Lett._, __89__, 11 (__2002__)](https://journals.aps.org/prl/abstract/10.1103/PhysRevLett.89.117602) and references therein)"
   ]
  },
  {
   "cell_type": "code",
   "execution_count": 9,
   "metadata": {},
   "outputs": [
    {
     "name": "stdout",
     "output_type": "stream",
     "text": [
      "Dielectric:  \n",
      " DFT:  8.4 \tExperiment: 9.6\n"
     ]
    }
   ],
   "source": [
    "print(\"Dielectric: \", \"\\n\", \"DFT: \", vibro.dielectric.round(1)[0,0], \"\\tExperiment: 9.6\")"
   ]
  },
  {
   "cell_type": "code",
   "execution_count": 10,
   "metadata": {},
   "outputs": [
    {
     "name": "stdout",
     "output_type": "stream",
     "text": [
      "Born charges:  \n",
      " DFT:  2.14 \tExperiment: 2.14\n"
     ]
    }
   ],
   "source": [
    "print(\"Born charges: \", \"\\n\", \"DFT: \", vibro.born_charges.round(2)[0,0,0], \"\\tExperiment: 2.14\")"
   ]
  },
  {
   "cell_type": "code",
   "execution_count": 11,
   "metadata": {},
   "outputs": [
    {
     "name": "stdout",
     "output_type": "stream",
     "text": [
      "Non-linear optical susceptibility (pm/V):  \n",
      " DFT:  42.0 \tExperiment: 64\n"
     ]
    }
   ],
   "source": [
    "print(\"Non-linear optical susceptibility (pm/V): \", \"\\n\", \"DFT: \", vibro.nlo_susceptibility.round(0)[0,1,2], \"\\tExperiment: 64\")"
   ]
  },
  {
   "attachments": {},
   "cell_type": "markdown",
   "metadata": {},
   "source": [
    "### Raman polarizability\n",
    "\n",
    "We can also obtain the Raman polarizability tensor, both for the TO and LO modes. We can only compare with other DFT results, cause there are no available experimental data."
   ]
  },
  {
   "cell_type": "code",
   "execution_count": 12,
   "metadata": {
    "tags": [
     "hide-input"
    ]
   },
   "outputs": [
    {
     "name": "stdout",
     "output_type": "stream",
     "text": [
      "TO Raman polarizability tensor (Angstrom^2):  \n",
      " DFT:  6.39 \tVeithen et al. (2005): 8.48\n"
     ]
    }
   ],
   "source": [
    "print(\"TO Raman polarizability tensor (Angstrom^2): \", \"\\n\", \"DFT: \", (vibro.raman_tensors[1,0,1,2]*vol).round(2), \"\\tVeithen et al. (2005): 8.48\")"
   ]
  },
  {
   "attachments": {},
   "cell_type": "markdown",
   "metadata": {},
   "source": [
    "::: {note} Why do our results differ from the one of Veithen?\n",
    ":class: dropdown\n",
    "\n",
    "The reason why we have discrepancies is mostly due to the fact we have _unconverged_ results. These tensors, being a third order derivative of the total energy, usually require a much denser k point sampling. Moreover, we also did not do the followings:\n",
    "- A tight relaxation of the cell; volume can modify significantly these properties.\n",
    "- Used the same functional as in other simulations, which eventually leads to different results.\n",
    "- Used a proper set of inputs: it's just a tutorial, and we don't want to wait forever (i.e. 5 minutes are too much already).\n",
    ":::"
   ]
  },
  {
   "attachments": {},
   "cell_type": "markdown",
   "metadata": {},
   "source": [
    "## Analysing the workflow\n",
    "\n",
    "Many things happened for computing this phonon band structure. Let's inspect the process tree."
   ]
  },
  {
   "cell_type": "code",
   "execution_count": 13,
   "metadata": {},
   "outputs": [
    {
     "name": "stdout",
     "output_type": "stream",
     "text": [
      "\u001b[22mHarmonicWorkChain<109> Finished [0] [4:if_(should_run_phonopy)(1:inspect_phonopy)]\n",
      "    ├── generate_preprocess_data<110> Finished [0]\n",
      "    ├── PhononWorkChain<115> Finished [0] [7:if_(should_run_phonopy)]\n",
      "    │   ├── generate_preprocess_data<120> Finished [0]\n",
      "    │   ├── get_supercell<133> Finished [0]\n",
      "    │   ├── create_kpoints_from_distance<138> Finished [0]\n",
      "    │   ├── PwBaseWorkChain<141> Finished [0] [3:results]\n",
      "    │   │   └── PwCalculation<144> Finished [0]\n",
      "    │   ├── get_supercells_with_displacements<155> Finished [0]\n",
      "    │   ├── PwBaseWorkChain<162> Finished [0] [3:results]\n",
      "    │   │   └── PwCalculation<170> Finished [0]\n",
      "    │   ├── PwBaseWorkChain<164> Finished [0] [3:results]\n",
      "    │   │   └── PwCalculation<173> Finished [0]\n",
      "    │   └── generate_phonopy_data<208> Finished [0]\n",
      "    ├── DielectricWorkChain<119> Finished [0] [11:results]\n",
      "    │   ├── create_kpoints_from_distance<121> Finished [0]\n",
      "    │   ├── create_directional_kpoints<125> Finished [0]\n",
      "    │   ├── create_directional_kpoints<128> Finished [0]\n",
      "    │   ├── PwBaseWorkChain<132> Finished [0] [3:results]\n",
      "    │   │   └── PwCalculation<136> Finished [0]\n",
      "    │   ├── PwBaseWorkChain<158> Finished [0] [3:results]\n",
      "    │   │   └── PwCalculation<167> Finished [0]\n",
      "    │   ├── compute_critical_electric_field<181> Finished [0]\n",
      "    │   ├── get_accuracy_from_critical_field<183> Finished [0]\n",
      "    │   ├── get_electric_field_step<185> Finished [0]\n",
      "    │   ├── PwBaseWorkChain<189> Finished [0] [3:results]\n",
      "    │   │   └── PwCalculation<193> Finished [0]\n",
      "    │   ├── PwBaseWorkChain<190> Finished [0] [3:results]\n",
      "    │   │   └── PwCalculation<196> Finished [0]\n",
      "    │   ├── PwBaseWorkChain<220> Finished [0] [3:results]\n",
      "    │   │   └── PwCalculation<226> Finished [0]\n",
      "    │   ├── PwBaseWorkChain<223> Finished [0] [3:results]\n",
      "    │   │   └── PwCalculation<229> Finished [0]\n",
      "    │   ├── PwBaseWorkChain<242> Finished [0] [3:results]\n",
      "    │   │   └── PwCalculation<248> Finished [0]\n",
      "    │   ├── PwBaseWorkChain<245> Finished [0] [3:results]\n",
      "    │   │   └── PwCalculation<251> Finished [0]\n",
      "    │   ├── subtract_residual_forces<264> Finished [0]\n",
      "    │   └── NumericalDerivativesWorkChain<269> Finished [0] [None]\n",
      "    │       ├── generate_preprocess_data<270> Finished [0]\n",
      "    │       ├── compute_nac_parameters<272> Finished [0]\n",
      "    │       ├── compute_susceptibility_derivatives<276> Finished [0]\n",
      "    │       ├── join_tensors<281> Finished [0]\n",
      "    │       ├── join_tensors<283> Finished [0]\n",
      "    │       └── join_tensors<285> Finished [0]\n",
      "    ├── elaborate_tensors<287> Finished [0]\n",
      "    ├── generate_vibrational_data_from_phonopy<289> Finished [0]\n",
      "    ├── elaborate_tensors<291> Finished [0]\n",
      "    ├── generate_vibrational_data_from_phonopy<293> Finished [0]\n",
      "    ├── elaborate_tensors<295> Finished [0]\n",
      "    ├── generate_vibrational_data_from_phonopy<297> Finished [0]\n",
      "    └── PhonopyCalculation<299> Finished [0]\u001b[0m\n"
     ]
    }
   ],
   "source": [
    "%verdi process status {calc.pk}"
   ]
  }
 ],
 "metadata": {
  "kernelspec": {
   "display_name": "base",
   "language": "python",
   "name": "python3"
  },
  "language_info": {
   "codemirror_mode": {
    "name": "ipython",
    "version": 3
   },
   "file_extension": ".py",
   "mimetype": "text/x-python",
   "name": "python",
   "nbconvert_exporter": "python",
   "pygments_lexer": "ipython3",
   "version": "3.8.16"
  },
  "vscode": {
   "interpreter": {
    "hash": "d4d1e4263499bec80672ea0156c357c1ee493ec2b1c70f0acce89fc37c4a6abe"
   }
  }
 },
 "nbformat": 4,
 "nbformat_minor": 2
}
