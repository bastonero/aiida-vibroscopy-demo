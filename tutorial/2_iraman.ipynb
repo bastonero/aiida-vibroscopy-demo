{
 "cells": [
  {
   "attachments": {},
   "cell_type": "markdown",
   "metadata": {},
   "source": [
    "# Vibrational spectra of Si\n",
    "\n",
    "Here we compute the infrared and Raman spectra of silicon using `aiida-vibroscopy`."
   ]
  },
  {
   "attachments": {},
   "cell_type": "markdown",
   "metadata": {},
   "source": [
    "\n",
    "## Finite electric fields\n",
    "\n",
    "In the Placzek approximations (good for insulators), all the needed quantities for Raman can be computed as finite difference using the electric fields, as demonstrated in [the previous tutorial for the dielectric tensor](2_dielectric).\n",
    "Now we a more challenging task, as a __third order derivative__ is needed: __the Raman tensor__, defined as:\n",
    "\n",
    "\\begin{equation}\n",
    "    \\frac{\\partial \\chi_{ij}}{\\partial \\tau_{K,k}} \n",
    "    =\n",
    "    \\frac{1}{\\Omega}\n",
    "    \\frac{\\partial^2 F_{K,k}}{\\partial \\mathcal{E}_i \\partial \\mathcal{E}_j}\n",
    "\\end{equation}\n",
    "\n",
    "The same theory we saw in previous tutorials applies here. Note that for computing _second order_ derivatives of forces we need a slightly different formula:\n",
    "\n",
    "\\begin{equation}\n",
    "    \\left . \\frac{\\partial f(x)}{\\partial x} \\right|_{x=0}\n",
    "    =\n",
    "    \\frac{1}{h^2}\n",
    "    \\left [\n",
    "        f(h) -2f(0) +f(-2h)\n",
    "    \\right ]\n",
    "    + \\mathcal(O)(h^2)\n",
    "\\end{equation}\n",
    "\n",
    "Have a look at the [finite difference coefficients](https://en.wikipedia.org/wiki/Finite_difference_coefficient) for coefficients of any accuracy order."
   ]
  },
  {
   "cell_type": "code",
   "execution_count": null,
   "metadata": {
    "tags": [
     "hide-cell"
    ]
   },
   "outputs": [],
   "source": [
    "from local_module import load_temp_profile\n",
    "\n",
    "# If you download this file, you can run it with your own profile.\n",
    "# Put these lines instead:\n",
    "# from aiida import load_profile\n",
    "# load_profile()\n",
    "data = load_temp_profile(\n",
    "    name=\"raman-tutorial\",\n",
    "    add_computer=True,\n",
    "    add_pw_code=True,\n",
    "    add_sssp=True,\n",
    ")"
   ]
  },
  {
   "attachments": {},
   "cell_type": "markdown",
   "metadata": {},
   "source": [
    "\n",
    "## The `IRamanSpectraWorkChain`\n",
    "\n",
    "For computing the spectra we need both phonons and Raman tensors.\n",
    "Let's import the WorkChain and run it! We use the `get_builder_from_protocol` to get a __prefilled__ builder with __all inputs__. \n",
    "\n",
    "::: {note}\n",
    "These inputs should be considered __not as converged parameters__, but as a good starting point. You may also need to tweak some parameters, e.g. add magnetization etc., depending on your case. \n",
    ":::"
   ]
  },
  {
   "cell_type": "code",
   "execution_count": null,
   "metadata": {
    "tags": [
     "hide-cell"
    ]
   },
   "outputs": [],
   "source": [
    "from aiida.plugins import DbImporterFactory\n",
    "\n",
    "CodDbImporter = DbImporterFactory('cod')\n",
    "\n",
    "cod = CodDbImporter()\n",
    "results = cod.query(id='1526655') # Si   1526655\n",
    "structure = results[0].get_aiida_structure() # it has 8 atoms"
   ]
  },
  {
   "cell_type": "code",
   "execution_count": null,
   "metadata": {
    "tags": [
     "hide-output"
    ]
   },
   "outputs": [],
   "source": [
    "from aiida.plugins import WorkflowFactory\n",
    "from aiida.engine import run_get_node\n",
    "\n",
    "IRamanSpectraWorkChain = WorkflowFactory(\"vibroscopy.spectra.iraman\")\n",
    "\n",
    "builder = IRamanSpectraWorkChain.get_builder_from_protocol(\n",
    "    code=data.pw_code,\n",
    "    structure=structure,\n",
    "    protocol=\"fast\",\n",
    ")\n",
    "\n",
    "results, calc = run_get_node(builder)"
   ]
  },
  {
   "attachments": {},
   "cell_type": "markdown",
   "metadata": {},
   "source": [
    "These are the results:"
   ]
  },
  {
   "cell_type": "code",
   "execution_count": null,
   "metadata": {},
   "outputs": [],
   "source": [
    "results"
   ]
  },
  {
   "attachments": {},
   "cell_type": "markdown",
   "metadata": {},
   "source": [
    "## The `VibrationalData`\n",
    "\n",
    "In aiida-vibroscopy we design a data type able to store __all__ the phonon and dielectric properties, to ease the share of the data and make it as costistent as possible.\n",
    "\n",
    "In this data, you can access to multiple information:\n",
    "\n",
    "- Structure (cell, sites, ...)\n",
    "- Symmetry\n",
    "- Dielectric tensor ($\\epsilon^{\\infty}$)\n",
    "- Born effective charges ($Z^*$)\n",
    "- Raman tensors ($\\partial \\chi / \\partial \\tau$)\n",
    "- Non-linear optical susceptibility ($\\chi^{(2)}$)\n",
    "\n",
    "Again, Born effective charges and non-linear optical susceptibility are null in silicon, due to symmetry. In the [next tutorial](3_polar) we will compute these quantities for AlAs, which has non vanishing tensors."
   ]
  },
  {
   "cell_type": "code",
   "execution_count": null,
   "metadata": {},
   "outputs": [],
   "source": [
    "vibro = calc.outputs.vibrational_data.numerical_accuracy_4\n",
    "print(\"The VibrationalData: \", vibro, \"\\n\")\n",
    "print(\"The dielectric tensor: \", \"\\n\", vibro.dielectric.round(5), \"\\n\")\n",
    "print(\"The Raman tensors (in 1/Angstrom): \", \"\\n\", vibro.raman_tensors.round(5), \"\\n\")"
   ]
  },
  {
   "attachments": {},
   "cell_type": "markdown",
   "metadata": {},
   "source": [
    "And we can also check how much the Raman tensors, which are third order derivatives, are sensible to the numerical accuracy chosen. Usually, the Raman tensor is expressed in Å$^2$. To get it, one can use the convention in the code:\n",
    "\n",
    "\\begin{equation}\n",
    "    \\left [\n",
    "        \\frac{\\partial \\chi}{\\partial \\tau}\n",
    "    \\right] (\\text{Å}^2)\n",
    "    = \n",
    "    \\Omega_{unitcell}\n",
    "    \\left [\n",
    "        \\frac{\\partial \\chi}{\\partial \\tau}\n",
    "    \\right] (\\text{Å}^{-1})\n",
    "\\end{equation}"
   ]
  },
  {
   "cell_type": "code",
   "execution_count": null,
   "metadata": {},
   "outputs": [],
   "source": [
    "vol = calc.outputs.vibrational_data.numerical_accuracy_4.get_unitcell().get_cell_volume()\n",
    "\n",
    "print(\n",
    "    calc.outputs.vibrational_data.numerical_accuracy_4.raman_tensors[1,0,1,2]*vol,\n",
    "    calc.outputs.vibrational_data.numerical_accuracy_2_step_1.raman_tensors[1,0,1,2]*vol,\n",
    "    calc.outputs.vibrational_data.numerical_accuracy_2_step_2.raman_tensors[1,0,1,2]*vol,\n",
    ")"
   ]
  },
  {
   "attachments": {},
   "cell_type": "markdown",
   "metadata": {},
   "source": [
    "We can see that the values are converged within 0.1 Å$^2$ with all three steps."
   ]
  },
  {
   "attachments": {},
   "cell_type": "markdown",
   "metadata": {},
   "source": [
    "## Plotting the powder Raman spectra\n",
    "\n",
    "Now, we can get directly from the data the Raman intensities."
   ]
  },
  {
   "cell_type": "code",
   "execution_count": null,
   "metadata": {},
   "outputs": [],
   "source": [
    "hh_intensities, hv_intensities, frequencies, labels = vibro.run_powder_raman_intensities(\n",
    "    frequency_laser=532, temperature=300)\n",
    "print(frequencies, \"\\n\", labels)"
   ]
  },
  {
   "attachments": {},
   "cell_type": "markdown",
   "metadata": {},
   "source": [
    "We have 3 degenerate modes. Quite expected for silicon, which is very symmetric. To plot the actual spectra:"
   ]
  },
  {
   "cell_type": "code",
   "execution_count": null,
   "metadata": {},
   "outputs": [],
   "source": [
    "from aiida_vibroscopy.utils.plotting import get_spectra_plot\n",
    "\n",
    "total_intensities =  hh_intensities + hv_intensities\n",
    "plt = get_spectra_plot(frequencies, total_intensities)\n",
    "plt.show()"
   ]
  },
  {
   "attachments": {},
   "cell_type": "markdown",
   "metadata": {},
   "source": [
    "## Analysing the workflow\n",
    "\n",
    "Look how the complexity of computing a Raman spectra has been handled __fully automatically__."
   ]
  },
  {
   "cell_type": "code",
   "execution_count": null,
   "metadata": {},
   "outputs": [],
   "source": [
    "%verdi process status {calc.pk}"
   ]
  },
  {
   "attachments": {},
   "cell_type": "markdown",
   "metadata": {},
   "source": [
    "## Convergence with k points\n",
    "\n",
    "As a final remark, we show here how the convergence with k points is speeded up by sampling in this _directional_ manner, compared to the most 'traditional' uniform mesh. "
   ]
  },
  {
   "cell_type": "code",
   "execution_count": null,
   "metadata": {},
   "outputs": [],
   "source": [
    "import numpy as np\n",
    "import matplotlib.pyplot as plt\n",
    "\n",
    "# Some options to make the plot nice\n",
    "plt.rcParams['font.size'] = 18\n",
    "plt.rcParams['font.family'] = \"serif\"\n",
    "plt.rcParams['text.usetex'] = False\n",
    "plt.rcParams['xtick.major.size'] = 7.0\n",
    "plt.rcParams['xtick.minor.size'] = 4.\n",
    "plt.rcParams['ytick.major.size'] = 7.0\n",
    "plt.rcParams['ytick.minor.size'] = 4.\n",
    "plt.rcParams['axes.linewidth'] = 1.2\n",
    "plt.rcParams['legend.fontsize'] = 15\n",
    "\n",
    "# Directional sampling\n",
    "diel_new = np.array([12.333, 12.983, 13.182, 13.207])\n",
    "kpoints_new = np.array([3*3*6, 3*3*12, 3*3*24, 3*3*58])\n",
    "\n",
    "# Uniform sampling\n",
    "diel = np.array([10.744, 12.369, 13.009])\n",
    "kpoints = np.array([3*3*3, 6*6*6, 12*12*12])\n",
    "\n",
    "# Plotting\n",
    "fig, ax = plt.subplots(figsize=(6.5,5)) # dichiaro il canvas e i subplots    \n",
    "\n",
    "ax.plot(kpoints_new, diel_new, color='red', marker='o', fillstyle='none', ms=10, linewidth=1.5, linestyle='-', label='Directional sampling')  \n",
    "ax.plot(kpoints, diel, color='black', marker='o', fillstyle='none', ms=10, linewidth=1.5, linestyle='-', label='Uniform sampling')  \n",
    "ax.set_xlabel('# k points')  \n",
    "ax.set_ylabel(r'$\\epsilon^{\\infty}$')\n",
    "ax.axhline(13.241, color='grey', linestyle='--', linewidth=1.5)\n",
    "ax.legend(bbox_to_anchor=(0., 1.02, 1., .102), loc='lower left',\n",
    "           ncol=1, mode=\"expand\", borderaxespad=0., frameon=False)"
   ]
  },
  {
   "cell_type": "code",
   "execution_count": null,
   "metadata": {
    "tags": [
     "hide-input"
    ]
   },
   "outputs": [],
   "source": [
    "# Directional sampling\n",
    "raman_new = np.array([18.445, 19.943, 20.442, 20.442])\n",
    "kpoints_new = np.array([3*6*6, 3*12*12, 3*24*24, 3*58*58])\n",
    "\n",
    "# Uniform sampling\n",
    "raman = np.array([15.610, 18.762, 20.436])\n",
    "kpoints = np.array([3*3*3, 6*6*6, 12*12*12])\n",
    "\n",
    "# Plotting\n",
    "fig, ax = plt.subplots(figsize=(6.5,5)) # dichiaro il canvas e i subplots    \n",
    "\n",
    "ax.plot(kpoints_new, raman_new, color='red', marker='o', fillstyle='none', ms=10, linewidth=1.5, linestyle='-', label='Directional sampling')  \n",
    "ax.plot(kpoints, raman, color='black', marker='o', fillstyle='none', ms=10, linewidth=1.5, linestyle='-', label='Uniform sampling')  \n",
    "ax.set_xlabel('# k points')  \n",
    "ax.set_ylabel(r'Raman tensor ($\\AA^2$)')\n",
    "ax.legend(bbox_to_anchor=(0., 1.02, 1., .102), loc='lower left',\n",
    "           ncol=1, mode=\"expand\", borderaxespad=0., frameon=False)"
   ]
  }
 ],
 "metadata": {
  "kernelspec": {
   "display_name": "base",
   "language": "python",
   "name": "python3"
  },
  "language_info": {
   "codemirror_mode": {
    "name": "ipython",
    "version": 3
   },
   "file_extension": ".py",
   "mimetype": "text/x-python",
   "name": "python",
   "nbconvert_exporter": "python",
   "pygments_lexer": "ipython3",
   "version": "3.8.16"
  },
  "vscode": {
   "interpreter": {
    "hash": "d4d1e4263499bec80672ea0156c357c1ee493ec2b1c70f0acce89fc37c4a6abe"
   }
  }
 },
 "nbformat": 4,
 "nbformat_minor": 2
}
